{
 "cells": [
  {
   "cell_type": "markdown",
   "id": "469fa365-06ce-4375-a587-7e6797b7b29f",
   "metadata": {},
   "source": [
    "# Data Science Tools and Ecosystems"
   ]
  },
  {
   "cell_type": "markdown",
   "id": "d59d14b6-81e4-4929-be26-ec5613066c9a",
   "metadata": {},
   "source": [
    "In this notebook, Data Science Tools and Ecosystem are summarized."
   ]
  },
  {
   "cell_type": "markdown",
   "id": "8279d443-3933-46d1-bd44-be36128e20c9",
   "metadata": {},
   "source": [
    "**Objectives:**\n",
    "- List popular languages for Data Science\n",
    "- List commonly used libraries for Data Science\n",
    "- List open source Data Science tools"
   ]
  },
  {
   "cell_type": "markdown",
   "id": "8fc9963d-6db8-4d45-9c79-d04d8d70d565",
   "metadata": {},
   "source": [
    "Some of the popular languages that Data Scientists use are:\n",
    "\n",
    "1. Python\n",
    "2. R\n",
    "3. SQL"
   ]
  },
  {
   "cell_type": "markdown",
   "id": "6d5db09e-0289-4e33-85dc-09d7fdb0af09",
   "metadata": {},
   "source": [
    "Some of the commonly used libraries used by Data Scientists include:\n",
    "\n",
    "1. Python numpy\n",
    "2. Python scikit-learn\n",
    "3. R dplyr"
   ]
  },
  {
   "cell_type": "markdown",
   "id": "922a8bfc-035c-4e84-8cd3-bcd29f817b2f",
   "metadata": {},
   "source": [
    "| Data Science Tools|\n",
    "| --- |\n",
    "| RStudio |\n",
    "| Apache Spark |\n",
    "| TensorFlow |\n"
   ]
  },
  {
   "cell_type": "markdown",
   "id": "95a258e9-8d57-4e76-86ab-33716052b241",
   "metadata": {},
   "source": [
    "### Below are a few examples of evaluating arithmetic expressions in Python"
   ]
  },
  {
   "cell_type": "code",
   "execution_count": 1,
   "id": "32deb02f-f4aa-43d9-91cf-1b9b503acf6c",
   "metadata": {
    "tags": []
   },
   "outputs": [
    {
     "data": {
      "text/plain": [
       "17"
      ]
     },
     "execution_count": 1,
     "metadata": {},
     "output_type": "execute_result"
    }
   ],
   "source": [
    "# This a simple arithmetic expression to mutiply then add integers\n",
    "\n",
    "(3*4)+5"
   ]
  },
  {
   "cell_type": "code",
   "execution_count": 2,
   "id": "40c2422a-e664-48dd-8e70-5bc279ec917c",
   "metadata": {
    "tags": []
   },
   "outputs": [
    {
     "data": {
      "text/plain": [
       "3.3333333333333335"
      ]
     },
     "execution_count": 2,
     "metadata": {},
     "output_type": "execute_result"
    }
   ],
   "source": [
    "#  This will convert 200 minutes to hours by diving by 60\n",
    "\n",
    "minutes = 200\n",
    "hours = minutes / 60\n",
    "hours"
   ]
  },
  {
   "cell_type": "markdown",
   "id": "b119465e-e3f5-4916-8bcc-42da32d9647a",
   "metadata": {},
   "source": [
    "## Author\n",
    "Michelle"
   ]
  },
  {
   "cell_type": "code",
   "execution_count": null,
   "id": "7825dbb7-80cd-4721-bac0-272f54bcfb03",
   "metadata": {},
   "outputs": [],
   "source": []
  }
 ],
 "metadata": {
  "kernelspec": {
   "display_name": "Python",
   "language": "python",
   "name": "conda-env-python-py"
  },
  "language_info": {
   "codemirror_mode": {
    "name": "ipython",
    "version": 3
   },
   "file_extension": ".py",
   "mimetype": "text/x-python",
   "name": "python",
   "nbconvert_exporter": "python",
   "pygments_lexer": "ipython3",
   "version": "3.7.12"
  }
 },
 "nbformat": 4,
 "nbformat_minor": 5
}
